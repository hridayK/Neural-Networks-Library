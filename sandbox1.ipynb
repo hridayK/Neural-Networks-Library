{
 "cells": [
  {
   "cell_type": "code",
   "execution_count": 46,
   "metadata": {},
   "outputs": [
    {
     "name": "stdout",
     "output_type": "stream",
     "text": [
      "imported modules successfully 🎉\n"
     ]
    }
   ],
   "source": [
    "import numpy as np\n",
    "from nnl import bundle as nn\n",
    "import keras.datasets.mnist\n",
    "import matplotlib.pyplot as plt\n",
    "\n",
    "print('imported modules successfully 🎉')"
   ]
  },
  {
   "attachments": {},
   "cell_type": "markdown",
   "metadata": {},
   "source": [
    "## Loading dataset:"
   ]
  },
  {
   "cell_type": "code",
   "execution_count": 47,
   "metadata": {},
   "outputs": [],
   "source": [
    "(X_train, y_train), (X_test, y_test) = keras.datasets.mnist.load_data()"
   ]
  },
  {
   "cell_type": "code",
   "execution_count": 48,
   "metadata": {},
   "outputs": [
    {
     "data": {
      "image/png": "[encoded data removed]",
      "text/plain": [
       "<Figure size 432x288 with 1 Axes>"
      ]
     },
     "metadata": {
      "needs_background": "light"
     },
     "output_type": "display_data"
    }
   ],
   "source": [
    "plt.imshow(X_train[1112],cmap='gray')\n",
    "plt.show()"
   ]
  },
  {
   "attachments": {},
   "cell_type": "markdown",
   "metadata": {},
   "source": [
    "## Preprocessing Data"
   ]
  },
  {
   "cell_type": "code",
   "execution_count": 49,
   "metadata": {},
   "outputs": [],
   "source": [
    "X_test1 = []\n",
    "X_train1 = []\n",
    "\n",
    "for i in range(0,len(X_train)):\n",
    "    X_train1.append(np.reshape(X_train[i],(784)))\n",
    "\n",
    "for i in range(0,len(X_test)):\n",
    "    X_test1.append(np.reshape(X_test[i],(784)))\n",
    "\n",
    "X_train1 = np.array(X_train1)\n",
    "X_test1 = np.array(X_test1)"
   ]
  },
  {
   "attachments": {},
   "cell_type": "markdown",
   "metadata": {},
   "source": [
    "## Initializing Model"
   ]
  },
  {
   "cell_type": "code",
   "execution_count": 50,
   "metadata": {},
   "outputs": [],
   "source": [
    "model = nn.Model()"
   ]
  },
  {
   "attachments": {},
   "cell_type": "markdown",
   "metadata": {},
   "source": [
    "### Adding layers to the model"
   ]
  },
  {
   "cell_type": "code",
   "execution_count": 51,
   "metadata": {},
   "outputs": [],
   "source": [
    "model.add(nn.layer_dense(784, 128))\n",
    "model.add(nn.relu())\n",
    "model.add(nn.layer_dense(128, 128))\n",
    "model.add(nn.relu())\n",
    "model.add(nn.layer_dense(128, 10))\n",
    "model.add(nn.softmax())"
   ]
  },
  {
   "cell_type": "code",
   "execution_count": 52,
   "metadata": {},
   "outputs": [],
   "source": [
    "model.set(\n",
    "    loss=nn.loss_categoricalCrossentropy(),\n",
    "    optimizer=nn.optimizer_adam(decay=1e-3),\n",
    "    accuracy=nn.accuracy_categorical()\n",
    ")\n",
    "\n",
    "model.finalize()"
   ]
  },
  {
   "attachments": {},
   "cell_type": "markdown",
   "metadata": {},
   "source": [
    "### Training the model:"
   ]
  },
  {
   "cell_type": "code",
   "execution_count": 53,
   "metadata": {},
   "outputs": [
    {
     "name": "stdout",
     "output_type": "stream",
     "text": [
      "epoch: 0\n",
      "training, acc: 0.926, loss: 0.245 (data_loss: 0.245, reg_loss: 0.000), lr: 0.000681198910081744\n",
      "\n",
      "epoch: 1\n",
      "training, acc: 0.971, loss: 0.095 (data_loss: 0.095, reg_loss: 0.000), lr: 0.0005162622612287042\n",
      "\n",
      "epoch: 2\n",
      "training, acc: 0.982, loss: 0.059 (data_loss: 0.059, reg_loss: 0.000), lr: 0.0004156275976724854\n",
      "\n",
      "epoch: 3\n",
      "training, acc: 0.988, loss: 0.039 (data_loss: 0.039, reg_loss: 0.000), lr: 0.00034782608695652176\n",
      "\n",
      "epoch: 4\n",
      "training, acc: 0.993, loss: 0.025 (data_loss: 0.025, reg_loss: 0.000), lr: 0.0002990430622009569\n",
      "\n",
      "epoch: 5\n",
      "training, acc: 0.994, loss: 0.018 (data_loss: 0.018, reg_loss: 0.000), lr: 0.00026226068712300026\n",
      "\n",
      "epoch: 6\n",
      "training, acc: 0.996, loss: 0.013 (data_loss: 0.013, reg_loss: 0.000), lr: 0.00023353573096683791\n",
      "\n",
      "epoch: 7\n",
      "training, acc: 0.997, loss: 0.010 (data_loss: 0.010, reg_loss: 0.000), lr: 0.00021048200378867611\n",
      "\n",
      "epoch: 8\n",
      "training, acc: 0.998, loss: 0.007 (data_loss: 0.007, reg_loss: 0.000), lr: 0.00019157088122605365\n",
      "\n",
      "epoch: 9\n",
      "training, acc: 0.999, loss: 0.005 (data_loss: 0.005, reg_loss: 0.000), lr: 0.00017577781683951485\n",
      "\n"
     ]
    }
   ],
   "source": [
    "model.train(X_train1, y_train, validation_data=(X_test1, y_test),\n",
    "            epochs=10, batch_size=128, print_every=1)"
   ]
  },
  {
   "attachments": {},
   "cell_type": "markdown",
   "metadata": {},
   "source": [
    "## Getting output (**model prediction**)"
   ]
  },
  {
   "cell_type": "code",
   "execution_count": 54,
   "metadata": {},
   "outputs": [],
   "source": [
    "test_answer = y_test[4545]\n",
    "test_input = X_test1[4545]"
   ]
  },
  {
   "cell_type": "code",
   "execution_count": 55,
   "metadata": {},
   "outputs": [
    {
     "data": {
      "image/png": "[encoded data removed]",
      "text/plain": [
       "<Figure size 432x288 with 1 Axes>"
      ]
     },
     "metadata": {
      "needs_background": "light"
     },
     "output_type": "display_data"
    }
   ],
   "source": [
    "plt.imshow(X_test[4545],cmap='gray')\n",
    "plt.show()"
   ]
  },
  {
   "cell_type": "code",
   "execution_count": 58,
   "metadata": {},
   "outputs": [
    {
     "data": {
      "text/plain": [
       "True"
      ]
     },
     "execution_count": 58,
     "metadata": {},
     "output_type": "execute_result"
    }
   ],
   "source": [
    "np.argmax(model.predict(test_input)) == test_answer"
   ]
  }
 ],
 "metadata": {
  "kernelspec": {
   "display_name": "Python 3",
   "language": "python",
   "name": "python3"
  },
  "language_info": {
   "codemirror_mode": {
    "name": "ipython",
    "version": 3
   },
   "file_extension": ".py",
   "mimetype": "text/x-python",
   "name": "python",
   "nbconvert_exporter": "python",
   "pygments_lexer": "ipython3",
   "version": "3.9.1"
  },
  "orig_nbformat": 4
 },
 "nbformat": 4,
 "nbformat_minor": 2
}
